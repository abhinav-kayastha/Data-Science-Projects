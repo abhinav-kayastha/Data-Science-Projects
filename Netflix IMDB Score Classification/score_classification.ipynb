{
 "cells": [
  {
   "cell_type": "code",
   "execution_count": 1,
   "metadata": {},
   "outputs": [
    {
     "data": {
      "text/plain": [
       "Index(['index', 'TITLE', 'RELEASE_YEAR', 'SCORE', 'NUMBER_OF_VOTES',\n",
       "       'DURATION', 'NUMBER_OF_SEASONS', 'MAIN_GENRE', 'MAIN_PRODUCTION'],\n",
       "      dtype='object')"
      ]
     },
     "execution_count": 1,
     "metadata": {},
     "output_type": "execute_result"
    }
   ],
   "source": [
    "import pandas as pd\n",
    "from sklearn.model_selection import train_test_split\n",
    "from sklearn.tree import DecisionTreeRegressor\n",
    "\n",
    "# storing the path to the data\n",
    "shows_file_path = 'Best Shows Netflix.csv'\n",
    "\n",
    "# reading the data\n",
    "shows_data = pd.read_csv(shows_file_path)\n",
    "\n",
    "# checking the columns of the data\n",
    "shows_data.columns\n"
   ]
  },
  {
   "cell_type": "code",
   "execution_count": 2,
   "metadata": {},
   "outputs": [
    {
     "data": {
      "text/html": [
       "<div>\n",
       "<style scoped>\n",
       "    .dataframe tbody tr th:only-of-type {\n",
       "        vertical-align: middle;\n",
       "    }\n",
       "\n",
       "    .dataframe tbody tr th {\n",
       "        vertical-align: top;\n",
       "    }\n",
       "\n",
       "    .dataframe thead th {\n",
       "        text-align: right;\n",
       "    }\n",
       "</style>\n",
       "<table border=\"1\" class=\"dataframe\">\n",
       "  <thead>\n",
       "    <tr style=\"text-align: right;\">\n",
       "      <th></th>\n",
       "      <th>index</th>\n",
       "      <th>TITLE</th>\n",
       "      <th>RELEASE_YEAR</th>\n",
       "      <th>SCORE</th>\n",
       "      <th>NUMBER_OF_VOTES</th>\n",
       "      <th>DURATION</th>\n",
       "      <th>NUMBER_OF_SEASONS</th>\n",
       "      <th>MAIN_GENRE</th>\n",
       "      <th>MAIN_PRODUCTION</th>\n",
       "    </tr>\n",
       "  </thead>\n",
       "  <tbody>\n",
       "    <tr>\n",
       "      <th>0</th>\n",
       "      <td>0</td>\n",
       "      <td>Breaking Bad</td>\n",
       "      <td>2008</td>\n",
       "      <td>9.5</td>\n",
       "      <td>1727694</td>\n",
       "      <td>48</td>\n",
       "      <td>5</td>\n",
       "      <td>drama</td>\n",
       "      <td>US</td>\n",
       "    </tr>\n",
       "    <tr>\n",
       "      <th>1</th>\n",
       "      <td>1</td>\n",
       "      <td>Avatar: The Last Airbender</td>\n",
       "      <td>2005</td>\n",
       "      <td>9.3</td>\n",
       "      <td>297336</td>\n",
       "      <td>24</td>\n",
       "      <td>3</td>\n",
       "      <td>scifi</td>\n",
       "      <td>US</td>\n",
       "    </tr>\n",
       "    <tr>\n",
       "      <th>2</th>\n",
       "      <td>2</td>\n",
       "      <td>Our Planet</td>\n",
       "      <td>2019</td>\n",
       "      <td>9.3</td>\n",
       "      <td>41386</td>\n",
       "      <td>50</td>\n",
       "      <td>1</td>\n",
       "      <td>documentary</td>\n",
       "      <td>GB</td>\n",
       "    </tr>\n",
       "    <tr>\n",
       "      <th>3</th>\n",
       "      <td>3</td>\n",
       "      <td>Kota Factory</td>\n",
       "      <td>2019</td>\n",
       "      <td>9.3</td>\n",
       "      <td>66985</td>\n",
       "      <td>42</td>\n",
       "      <td>2</td>\n",
       "      <td>drama</td>\n",
       "      <td>IN</td>\n",
       "    </tr>\n",
       "    <tr>\n",
       "      <th>4</th>\n",
       "      <td>4</td>\n",
       "      <td>The Last Dance</td>\n",
       "      <td>2020</td>\n",
       "      <td>9.1</td>\n",
       "      <td>108321</td>\n",
       "      <td>50</td>\n",
       "      <td>1</td>\n",
       "      <td>documentary</td>\n",
       "      <td>US</td>\n",
       "    </tr>\n",
       "  </tbody>\n",
       "</table>\n",
       "</div>"
      ],
      "text/plain": [
       "   index                       TITLE  RELEASE_YEAR  SCORE  NUMBER_OF_VOTES  \\\n",
       "0      0                Breaking Bad          2008    9.5          1727694   \n",
       "1      1  Avatar: The Last Airbender          2005    9.3           297336   \n",
       "2      2                  Our Planet          2019    9.3            41386   \n",
       "3      3                Kota Factory          2019    9.3            66985   \n",
       "4      4              The Last Dance          2020    9.1           108321   \n",
       "\n",
       "   DURATION  NUMBER_OF_SEASONS   MAIN_GENRE MAIN_PRODUCTION  \n",
       "0        48                  5        drama              US  \n",
       "1        24                  3        scifi              US  \n",
       "2        50                  1  documentary              GB  \n",
       "3        42                  2        drama              IN  \n",
       "4        50                  1  documentary              US  "
      ]
     },
     "execution_count": 2,
     "metadata": {},
     "output_type": "execute_result"
    }
   ],
   "source": [
    "# drops rows that contain NaN values for the data\n",
    "shows_data = shows_data.dropna()\n",
    "\n",
    "# showing the first few data\n",
    "shows_data.head()"
   ]
  },
  {
   "cell_type": "code",
   "execution_count": 3,
   "metadata": {},
   "outputs": [
    {
     "name": "stdout",
     "output_type": "stream",
     "text": [
      "[7.6 7.9 8.5 8.6 8.6 8.6 7.9 7.5 8.4 7.6 8.4 8.6 8.5 8.1 7.9 7.7 7.5 7.5\n",
      " 8.2 8.5 7.9 8.3 7.8 7.9 8.  7.8 8.4 7.6 9.3 7.5 8.6 7.9 7.5 8.1 8.8 8.3\n",
      " 8.6 7.5 8.3 9.3 8.5 8.7 8.4 7.9 8.1 7.8 8.1 8.2 8.2 7.8 8.4 8.1 8.  8.2\n",
      " 7.5 7.6 8.  8.4 7.5 7.5 8.2 8.1]\n",
      "89     8.3\n",
      "108    8.1\n",
      "74     8.4\n",
      "109    8.1\n",
      "71     8.4\n",
      "      ... \n",
      "158    7.8\n",
      "173    7.8\n",
      "107    8.1\n",
      "116    8.1\n",
      "160    7.8\n",
      "Name: SCORE, Length: 62, dtype: float64\n"
     ]
    }
   ],
   "source": [
    "# setting the classification variable which is the score of the show\n",
    "y = shows_data.SCORE\n",
    "\n",
    "# setting what features should be considered when building the model\n",
    "shows_features = ['NUMBER_OF_VOTES', 'DURATION', 'NUMBER_OF_SEASONS']\n",
    "\n",
    "# now just getting the data with only the features\n",
    "X = shows_data[shows_features]\n",
    "\n",
    "# setting the training data and the validation data\n",
    "train_X, val_X, train_y, val_y = train_test_split(X, y, random_state = 0)\n",
    "\n",
    "# creating the decision tree regressor object with random_state=1 which makes sure that in each run the randomness is always the same\n",
    "shows_model = DecisionTreeRegressor(random_state=1)\n",
    "\n",
    "# fitting the model and training it with the training data\n",
    "shows_model.fit(train_X, train_y)\n",
    "\n",
    "# predicting the scores using the testing data\n",
    "val_predictions = shows_model.predict(val_X)\n",
    "\n",
    "# printing the predictions and the correct score\n",
    "print(val_predictions)\n",
    "print(val_y)"
   ]
  },
  {
   "cell_type": "markdown",
   "metadata": {},
   "source": [
    "# Conclusion\n",
    "\n",
    "From the data and the prediction, the model does not seem to be too accurate in its prediction mostly due to the lack of data, and the poor choice of features."
   ]
  }
 ],
 "metadata": {
  "kernelspec": {
   "display_name": "Python 3.10.8 ('LearningDataScience-venv')",
   "language": "python",
   "name": "python3"
  },
  "language_info": {
   "codemirror_mode": {
    "name": "ipython",
    "version": 3
   },
   "file_extension": ".py",
   "mimetype": "text/x-python",
   "name": "python",
   "nbconvert_exporter": "python",
   "pygments_lexer": "ipython3",
   "version": "3.10.8"
  },
  "orig_nbformat": 4,
  "vscode": {
   "interpreter": {
    "hash": "2bc85ec49f118d2454bfa6daa251e82cf889c7b3c07e2384c3b314b74aacfd9b"
   }
  }
 },
 "nbformat": 4,
 "nbformat_minor": 2
}
